{
  "nbformat": 4,
  "nbformat_minor": 0,
  "metadata": {
    "colab": {
      "provenance": [],
      "authorship_tag": "ABX9TyOwYBpS5ArYXX2U9PE0+iLC",
      "include_colab_link": true
    },
    "kernelspec": {
      "name": "python3",
      "display_name": "Python 3"
    },
    "language_info": {
      "name": "python"
    }
  },
  "cells": [
    {
      "cell_type": "markdown",
      "metadata": {
        "id": "view-in-github",
        "colab_type": "text"
      },
      "source": [
        "<a href=\"https://colab.research.google.com/github/tan-k/intern1/blob/main/assignment.ipynb\" target=\"_parent\"><img src=\"https://colab.research.google.com/assets/colab-badge.svg\" alt=\"Open In Colab\"/></a>"
      ]
    },
    {
      "cell_type": "markdown",
      "source": [
        "Assignment 1"
      ],
      "metadata": {
        "id": "G3x4G7WQEePK"
      }
    },
    {
      "cell_type": "code",
      "source": [
        "#Collective Data types: List, Tuple, Set, Dictionary\n",
        "#List\n",
        "\n",
        "details=['name','ID','Date of Birth', 'Branch']\n",
        "print(details)\n",
        "Marks=['Science=90','Math=100','Social Studies=97','English=92']\n",
        "print(Marks)"
      ],
      "metadata": {
        "colab": {
          "base_uri": "https://localhost:8080/"
        },
        "id": "fNyyllX1Eco2",
        "outputId": "157bbd28-4dd4-428b-c60d-82433b3ef947"
      },
      "execution_count": null,
      "outputs": [
        {
          "output_type": "stream",
          "name": "stdout",
          "text": [
            "['name', 'ID', 'Date of Birth', 'Branch']\n",
            "['Science=90', 'Math=100', 'Social Studies=97', 'English=92']\n"
          ]
        }
      ]
    },
    {
      "cell_type": "code",
      "source": [
        "#Dictionary\n",
        "\n",
        "dic1={\n",
        "    \"username\":\"admin\",\n",
        "    \"password\":\"sleep\",\n",
        "    \"name\":\"tanush\",\n",
        "}\n",
        "print(dic1)\n",
        "\n",
        "dic2={\n",
        "    \"cry\":\"pain\",\n",
        "    \"tennis\":\"racquet\",\n",
        "    \"song\":\"music\",\n",
        "}\n",
        "print(dic2)"
      ],
      "metadata": {
        "colab": {
          "base_uri": "https://localhost:8080/"
        },
        "id": "CMfDT8mbFtgl",
        "outputId": "d71d7dd5-d48f-499b-b7e3-0efa3d048763"
      },
      "execution_count": null,
      "outputs": [
        {
          "output_type": "stream",
          "name": "stdout",
          "text": [
            "{'username': 'admin', 'password': 'sleep', 'name': 'tanush'}\n",
            "{'cry': 'pain', 'tennis': 'racquet', 'song': 'music'}\n"
          ]
        }
      ]
    },
    {
      "cell_type": "code",
      "source": [
        "#Set\n",
        "\n",
        "marks={97,98,100}\n",
        "words={'am','I','happy'}\n",
        "print(words)"
      ],
      "metadata": {
        "colab": {
          "base_uri": "https://localhost:8080/"
        },
        "id": "CurnymRmHO45",
        "outputId": "0874f28a-edfb-4a22-8c04-581ec33529fc"
      },
      "execution_count": null,
      "outputs": [
        {
          "output_type": "stream",
          "name": "stdout",
          "text": [
            "{'am', 'happy', 'I'}\n"
          ]
        }
      ]
    },
    {
      "cell_type": "code",
      "source": [
        "#Tuple\n",
        "\n",
        "Phone=(\"Apple\",\"Iphone\",256,\"A14\")\n",
        "Time=(2023,'February','5pm')\n",
        "print(Time)"
      ],
      "metadata": {
        "colab": {
          "base_uri": "https://localhost:8080/"
        },
        "id": "r8cEuyd_HleS",
        "outputId": "c90936a7-edd4-4963-8cfd-388087d3ced7"
      },
      "execution_count": null,
      "outputs": [
        {
          "output_type": "stream",
          "name": "stdout",
          "text": [
            "(2023, 'February', '5pm')\n"
          ]
        }
      ]
    },
    {
      "cell_type": "markdown",
      "source": [
        "Assignment 2"
      ],
      "metadata": {
        "id": "_p6B-1uwIJnM"
      }
    },
    {
      "cell_type": "code",
      "source": [
        "file=open('assign2.txt','r+')\n",
        "file.write('sun \\n')\n",
        "print(file.read())"
      ],
      "metadata": {
        "colab": {
          "base_uri": "https://localhost:8080/"
        },
        "id": "OsbSOez0ILrj",
        "outputId": "adea2212-b79c-49da-a6f6-d224b0d92143"
      },
      "execution_count": null,
      "outputs": [
        {
          "output_type": "stream",
          "name": "stdout",
          "text": [
            "is written by the developer\n"
          ]
        }
      ]
    },
    {
      "cell_type": "code",
      "source": [
        "file=open('file.txt','w+')\n",
        "file.write('This is written by the developer')"
      ],
      "metadata": {
        "id": "dqHMtA8YLycs",
        "colab": {
          "base_uri": "https://localhost:8080/"
        },
        "outputId": "9a2d2205-294f-4f7d-88ca-f695830f6296"
      },
      "execution_count": null,
      "outputs": [
        {
          "output_type": "stream",
          "name": "stdout",
          "text": [
            "\n"
          ]
        }
      ]
    },
    {
      "cell_type": "code",
      "source": [
        "file=open('append.txt','a+')\n",
        "file.write(\"5 thousand\")"
      ],
      "metadata": {
        "colab": {
          "base_uri": "https://localhost:8080/"
        },
        "id": "Kd9n5yE0MwIp",
        "outputId": "3824cc13-d964-4a7c-a9dc-c26121989cd5"
      },
      "execution_count": null,
      "outputs": [
        {
          "output_type": "stream",
          "name": "stdout",
          "text": [
            "\n"
          ]
        }
      ]
    }
  ]
}